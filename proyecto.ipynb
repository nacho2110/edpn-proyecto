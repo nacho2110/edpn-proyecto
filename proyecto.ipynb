{
 "cells": [
  {
   "cell_type": "code",
   "execution_count": 1,
   "id": "5568dd15",
   "metadata": {},
   "outputs": [],
   "source": [
    "import numpy as np\n",
    "import matplotlib.pyplot as plt\n",
    "from modules.ternary_classifier import TernaryClassifier"
   ]
  },
  {
   "cell_type": "code",
   "execution_count": 2,
   "id": "28c698a7",
   "metadata": {},
   "outputs": [],
   "source": [
    "def generador(n, m, rhor=1/3, rhog=1/3, rhob=1/3):\n",
    "    X = np.zeros((n, m, 3))\n",
    "    assert rhor + rhog + rhob == 1, \"The sum of rhor, rhog, and rhob must equal 1\"\n",
    "    assert rhor >= 0 and rhog >= 0 and rhob >= 0, \"rhor, rhog, and rhob must be non-negative\"\n",
    "    for i in range(n):\n",
    "        for j in range(m):\n",
    "            x = np.random.uniform(0, 1)\n",
    "            if x < rhor:\n",
    "                X[i, j, 0] = 1\n",
    "            elif rhor <= x < rhor + rhog:\n",
    "                X[i, j, 1] = 1\n",
    "            else:\n",
    "                X[i, j, 2] = 1\n",
    "    return X"
   ]
  },
  {
   "cell_type": "code",
   "execution_count": 3,
   "id": "d44b2c19",
   "metadata": {},
   "outputs": [
    {
     "data": {
      "image/png": "[encoded data removed]",
      "text/plain": [
       "<Figure size 600x600 with 1 Axes>"
      ]
     },
     "metadata": {},
     "output_type": "display_data"
    },
    {
     "name": "stdout",
     "output_type": "stream",
     "text": [
      "[[[1. 0. 0.]\n",
      "  [1. 0. 0.]\n",
      "  [0. 0. 1.]]\n",
      "\n",
      " [[1. 0. 0.]\n",
      "  [1. 0. 0.]\n",
      "  [0. 1. 0.]]\n",
      "\n",
      " [[1. 0. 0.]\n",
      "  [0. 0. 1.]\n",
      "  [0. 0. 1.]]]\n"
     ]
    }
   ],
   "source": [
    "np.random.seed(41)  # For reproducibility\n",
    "ini = generador(3, 3)\n",
    "classifier = TernaryClassifier(ini, 1e-2, 100, 1)\n",
    "classifier.show()\n",
    "print(ini)"
   ]
  },
  {
   "cell_type": "code",
   "execution_count": 4,
   "id": "c2c32c49",
   "metadata": {},
   "outputs": [
    {
     "name": "stdout",
     "output_type": "stream",
     "text": [
      "Processing pixel (0, 0) with neighbors: [(0, 0), (2, 0), (0, 2), (0, 1), (1, 0)]\n",
      "neighbor_values_r: 4.0\n",
      "neighbor_values_g: 0.0\n",
      "neighbor_values_b: 1.0\n",
      "avg_value_r: 1.0, alpha: 4.0\n",
      "new_value_r: 1.0033333333333334\n",
      "Processing pixel (0, 1) with neighbors: [(0, 1), (2, 1), (0, 0), (0, 2), (1, 1)]\n",
      "neighbor_values_r: 3.0\n",
      "neighbor_values_g: 0.0\n",
      "neighbor_values_b: 2.0\n",
      "avg_value_r: 1.0, alpha: 3.0\n",
      "new_value_r: 1.0033333333333334\n",
      "Processing pixel (0, 2) with neighbors: [(0, 2), (2, 2), (0, 1), (0, 0), (1, 2)]\n",
      "neighbor_values_r: 2.0\n",
      "neighbor_values_g: 1.0\n",
      "neighbor_values_b: 2.0\n",
      "avg_value_r: 0.6666666666666666, alpha: 3.0\n",
      "new_value_r: 0.6733333333333333\n",
      "Processing pixel (1, 0) with neighbors: [(1, 0), (0, 0), (1, 2), (1, 1), (2, 0)]\n",
      "neighbor_values_r: 4.0\n",
      "neighbor_values_g: 1.0\n",
      "neighbor_values_b: 0.0\n",
      "avg_value_r: 0.8, alpha: 5.0\n",
      "new_value_r: 0.8033333333333332\n",
      "Processing pixel (1, 1) with neighbors: [(1, 1), (0, 1), (1, 0), (1, 2), (2, 1)]\n",
      "neighbor_values_r: 3.0\n",
      "neighbor_values_g: 1.0\n",
      "neighbor_values_b: 1.0\n",
      "avg_value_r: 0.75, alpha: 4.0\n",
      "new_value_r: 0.7533333333333333\n",
      "Processing pixel (1, 2) with neighbors: [(1, 2), (0, 2), (1, 1), (1, 0), (2, 2)]\n",
      "neighbor_values_r: 2.0\n",
      "neighbor_values_g: 1.0\n",
      "neighbor_values_b: 2.0\n",
      "avg_value_r: 0.6666666666666666, alpha: 3.0\n",
      "new_value_r: 0.6733333333333333\n",
      "Processing pixel (2, 0) with neighbors: [(2, 0), (1, 0), (2, 2), (2, 1), (0, 0)]\n",
      "neighbor_values_r: 3.0\n",
      "neighbor_values_g: 0.0\n",
      "neighbor_values_b: 2.0\n",
      "avg_value_r: 1.0, alpha: 3.0\n",
      "new_value_r: 1.0033333333333334\n",
      "Processing pixel (2, 1) with neighbors: [(2, 1), (1, 1), (2, 0), (2, 2), (0, 1)]\n",
      "neighbor_values_r: 3.0\n",
      "neighbor_values_g: 0.0\n",
      "neighbor_values_b: 2.0\n",
      "avg_value_r: 1.0, alpha: 3.0\n",
      "new_value_r: 1.0033333333333334\n",
      "Processing pixel (2, 2) with neighbors: [(2, 2), (1, 2), (2, 1), (2, 0), (0, 2)]\n",
      "neighbor_values_r: 1.0\n",
      "neighbor_values_g: 1.0\n",
      "neighbor_values_b: 3.0\n",
      "avg_value_r: 0.5, alpha: 2.0\n",
      "new_value_r: 0.5033333333333333\n"
     ]
    }
   ],
   "source": [
    "classifier.t\n",
    "classifier.alternated_step()"
   ]
  },
  {
   "cell_type": "code",
   "execution_count": 5,
   "id": "d31fe1dd",
   "metadata": {},
   "outputs": [
    {
     "name": "stdout",
     "output_type": "stream",
     "text": [
      "Processing pixel (0, 0) with neighbors: [(0, 0), (2, 0), (0, 2), (0, 1), (1, 0)]\n",
      "neighbor_values_r: 16.14\n",
      "neighbor_values_g: -42.513333333333335\n",
      "neighbor_values_b: 1.0\n",
      "Processing pixel (0, 1) with neighbors: [(0, 1), (2, 1), (0, 0), (0, 2), (1, 1)]\n",
      "neighbor_values_r: 15.133333333333336\n",
      "neighbor_values_g: -35.45333333333334\n",
      "neighbor_values_b: 2.0\n",
      "Processing pixel (0, 2) with neighbors: [(0, 2), (2, 2), (0, 1), (0, 0), (1, 2)]\n",
      "neighbor_values_r: 12.14\n",
      "neighbor_values_g: -24.433333333333337\n",
      "neighbor_values_b: 2.0\n",
      "Processing pixel (1, 0) with neighbors: [(1, 0), (0, 0), (1, 2), (1, 1), (2, 0)]\n",
      "neighbor_values_r: 16.146666666666665\n",
      "neighbor_values_g: -44.56\n",
      "neighbor_values_b: 0.0\n",
      "Processing pixel (1, 1) with neighbors: [(1, 1), (0, 1), (1, 0), (1, 2), (2, 1)]\n",
      "neighbor_values_r: 15.139999999999997\n",
      "neighbor_values_g: -38.51333333333333\n",
      "neighbor_values_b: 1.0\n",
      "Processing pixel (1, 2) with neighbors: [(1, 2), (0, 2), (1, 1), (1, 0), (2, 2)]\n",
      "neighbor_values_r: 12.153333333333332\n",
      "neighbor_values_g: -29.539999999999996\n",
      "neighbor_values_b: 2.0\n",
      "Processing pixel (2, 0) with neighbors: [(2, 0), (1, 0), (2, 2), (2, 1), (0, 0)]\n",
      "neighbor_values_r: 15.113333333333333\n",
      "neighbor_values_g: -39.42\n",
      "neighbor_values_b: 2.0\n",
      "Processing pixel (2, 1) with neighbors: [(2, 1), (1, 1), (2, 0), (2, 2), (0, 1)]\n",
      "neighbor_values_r: 13.100000000000001\n",
      "neighbor_values_g: -26.31333333333334\n",
      "neighbor_values_b: 2.0\n",
      "Processing pixel (2, 2) with neighbors: [(2, 2), (1, 2), (2, 1), (2, 0), (0, 2)]\n",
      "neighbor_values_r: 11.133333333333333\n",
      "neighbor_values_g: -18.38666666666667\n",
      "neighbor_values_b: 3.0\n",
      "[[[  4.02666667 -12.10666667   0.        ]\n",
      "  [  3.02        -6.06         0.        ]\n",
      "  [  2.04        -3.12         1.        ]]\n",
      "\n",
      " [[  4.03333333 -15.16666667   0.        ]\n",
      "  [  3.02666667  -8.10666667   0.        ]\n",
      "  [  2.04        -3.12         0.        ]]\n",
      "\n",
      " [[  3.02        -6.06         0.        ]\n",
      "  [  3.02        -6.06         1.        ]\n",
      "  [  1.01333333  -0.02666667   1.        ]]]\n"
     ]
    },
    {
     "data": {
      "image/png": "[encoded data removed]",
      "text/plain": [
       "<Figure size 600x600 with 1 Axes>"
      ]
     },
     "metadata": {},
     "output_type": "display_data"
    }
   ],
   "source": [
    "classifier.alternated_step()\n",
    "print(classifier.grid)\n",
    "classifier.show()"
   ]
  },
  {
   "cell_type": "code",
   "execution_count": 6,
   "id": "555e4c20",
   "metadata": {},
   "outputs": [
    {
     "data": {
      "text/plain": [
       "array([[[  4.02666667, -12.10666667,   0.        ],\n",
       "        [  3.02      ,  -6.06      ,   0.        ],\n",
       "        [  2.04      ,  -3.12      ,   1.        ]],\n",
       "\n",
       "       [[  4.03333333, -15.16666667,   0.        ],\n",
       "        [  3.02666667,  -8.10666667,   0.        ],\n",
       "        [  2.04      ,  -3.12      ,   0.        ]],\n",
       "\n",
       "       [[  3.02      ,  -6.06      ,   0.        ],\n",
       "        [  3.02      ,  -6.06      ,   1.        ],\n",
       "        [  1.01333333,  -0.02666667,   1.        ]]])"
      ]
     },
     "execution_count": 6,
     "metadata": {},
     "output_type": "execute_result"
    }
   ],
   "source": [
    "classifier.grid"
   ]
  },
  {
   "cell_type": "code",
   "execution_count": null,
   "id": "2684c30e",
   "metadata": {},
   "outputs": [],
   "source": []
  }
 ],
 "metadata": {
  "kernelspec": {
   "display_name": ".venv",
   "language": "python",
   "name": "python3"
  },
  "language_info": {
   "codemirror_mode": {
    "name": "ipython",
    "version": 3
   },
   "file_extension": ".py",
   "mimetype": "text/x-python",
   "name": "python",
   "nbconvert_exporter": "python",
   "pygments_lexer": "ipython3",
   "version": "3.12.7"
  }
 },
 "nbformat": 4,
 "nbformat_minor": 5
}
